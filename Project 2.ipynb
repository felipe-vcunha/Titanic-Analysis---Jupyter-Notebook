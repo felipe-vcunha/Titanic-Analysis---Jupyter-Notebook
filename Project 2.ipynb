{
 "cells": [
  {
   "cell_type": "markdown",
   "metadata": {},
   "source": [
    "# PROJETO 2: Dados do Titanic"
   ]
  },
  {
   "cell_type": "markdown",
   "metadata": {},
   "source": [
    "#### Vamos começar importando o `pandas` e chamá-lo de `pd`\n",
    "- O pandas é uma biblioteca do Python que facilita o uso de alguns comandos. \n",
    "- Após importar o pandas, damos o comando `pd.read_csv` que vai ler o arquivo de valores separados por vírgulas (.csv) e salvar todos os dados do arquivo na variável que criamos `df_tn` (df é a abreviação de data frame)\n",
    "- Depois disso, usamos o comando `.head()` para visualizar o cabeçalho do data frame, que vai imprimir as 5 primeiras linhas"
   ]
  },
  {
   "cell_type": "code",
   "execution_count": 1,
   "metadata": {
    "scrolled": true
   },
   "outputs": [
    {
     "data": {
      "text/html": [
       "<div>\n",
       "<style scoped>\n",
       "    .dataframe tbody tr th:only-of-type {\n",
       "        vertical-align: middle;\n",
       "    }\n",
       "\n",
       "    .dataframe tbody tr th {\n",
       "        vertical-align: top;\n",
       "    }\n",
       "\n",
       "    .dataframe thead th {\n",
       "        text-align: right;\n",
       "    }\n",
       "</style>\n",
       "<table border=\"1\" class=\"dataframe\">\n",
       "  <thead>\n",
       "    <tr style=\"text-align: right;\">\n",
       "      <th></th>\n",
       "      <th>PassengerId</th>\n",
       "      <th>Survived</th>\n",
       "      <th>Pclass</th>\n",
       "      <th>Name</th>\n",
       "      <th>Sex</th>\n",
       "      <th>Age</th>\n",
       "      <th>SibSp</th>\n",
       "      <th>Parch</th>\n",
       "      <th>Ticket</th>\n",
       "      <th>Fare</th>\n",
       "      <th>Cabin</th>\n",
       "      <th>Embarked</th>\n",
       "    </tr>\n",
       "  </thead>\n",
       "  <tbody>\n",
       "    <tr>\n",
       "      <th>0</th>\n",
       "      <td>1</td>\n",
       "      <td>0</td>\n",
       "      <td>3</td>\n",
       "      <td>Braund, Mr. Owen Harris</td>\n",
       "      <td>male</td>\n",
       "      <td>22.0</td>\n",
       "      <td>1</td>\n",
       "      <td>0</td>\n",
       "      <td>A/5 21171</td>\n",
       "      <td>725.0</td>\n",
       "      <td>NaN</td>\n",
       "      <td>S</td>\n",
       "    </tr>\n",
       "    <tr>\n",
       "      <th>1</th>\n",
       "      <td>2</td>\n",
       "      <td>1</td>\n",
       "      <td>1</td>\n",
       "      <td>Cumings, Mrs. John Bradley (Florence Briggs Th...</td>\n",
       "      <td>female</td>\n",
       "      <td>38.0</td>\n",
       "      <td>1</td>\n",
       "      <td>0</td>\n",
       "      <td>PC 17599</td>\n",
       "      <td>712833.0</td>\n",
       "      <td>C85</td>\n",
       "      <td>C</td>\n",
       "    </tr>\n",
       "    <tr>\n",
       "      <th>2</th>\n",
       "      <td>3</td>\n",
       "      <td>1</td>\n",
       "      <td>3</td>\n",
       "      <td>Heikkinen, Miss. Laina</td>\n",
       "      <td>female</td>\n",
       "      <td>26.0</td>\n",
       "      <td>0</td>\n",
       "      <td>0</td>\n",
       "      <td>STON/O2. 3101282</td>\n",
       "      <td>7925.0</td>\n",
       "      <td>NaN</td>\n",
       "      <td>S</td>\n",
       "    </tr>\n",
       "    <tr>\n",
       "      <th>3</th>\n",
       "      <td>4</td>\n",
       "      <td>1</td>\n",
       "      <td>1</td>\n",
       "      <td>Futrelle, Mrs. Jacques Heath (Lily May Peel)</td>\n",
       "      <td>female</td>\n",
       "      <td>35.0</td>\n",
       "      <td>1</td>\n",
       "      <td>0</td>\n",
       "      <td>113803</td>\n",
       "      <td>53.1</td>\n",
       "      <td>C123</td>\n",
       "      <td>S</td>\n",
       "    </tr>\n",
       "    <tr>\n",
       "      <th>4</th>\n",
       "      <td>5</td>\n",
       "      <td>0</td>\n",
       "      <td>3</td>\n",
       "      <td>Allen, Mr. William Henry</td>\n",
       "      <td>male</td>\n",
       "      <td>35.0</td>\n",
       "      <td>0</td>\n",
       "      <td>0</td>\n",
       "      <td>373450</td>\n",
       "      <td>805.0</td>\n",
       "      <td>NaN</td>\n",
       "      <td>S</td>\n",
       "    </tr>\n",
       "  </tbody>\n",
       "</table>\n",
       "</div>"
      ],
      "text/plain": [
       "   PassengerId  Survived  Pclass  \\\n",
       "0            1         0       3   \n",
       "1            2         1       1   \n",
       "2            3         1       3   \n",
       "3            4         1       1   \n",
       "4            5         0       3   \n",
       "\n",
       "                                                Name     Sex   Age  SibSp  \\\n",
       "0                            Braund, Mr. Owen Harris    male  22.0      1   \n",
       "1  Cumings, Mrs. John Bradley (Florence Briggs Th...  female  38.0      1   \n",
       "2                             Heikkinen, Miss. Laina  female  26.0      0   \n",
       "3       Futrelle, Mrs. Jacques Heath (Lily May Peel)  female  35.0      1   \n",
       "4                           Allen, Mr. William Henry    male  35.0      0   \n",
       "\n",
       "   Parch            Ticket      Fare Cabin Embarked  \n",
       "0      0         A/5 21171     725.0   NaN        S  \n",
       "1      0          PC 17599  712833.0   C85        C  \n",
       "2      0  STON/O2. 3101282    7925.0   NaN        S  \n",
       "3      0            113803      53.1  C123        S  \n",
       "4      0            373450     805.0   NaN        S  "
      ]
     },
     "execution_count": 1,
     "metadata": {},
     "output_type": "execute_result"
    }
   ],
   "source": [
    "import pandas as pd\n",
    "% matplotlib inline\n",
    "\n",
    "df_tn = pd.read_csv('titanic-data-6.csv')\n",
    "df_tn.head()"
   ]
  },
  {
   "cell_type": "markdown",
   "metadata": {},
   "source": [
    "Fazendo uma análise inicial nos dados, podemos pensar em quais perguntas podem ser feitas. Neste relatório vamos responder apenas algumas, mas a verdade é que podemos investigar várias questões. Todo o trabalho que faremos aqui vai ser como se fossemos um \"Detetive\".\n",
    "\n",
    "Vamos lá: sabemos que a classe do bilhete comprado (`pclass`) provavelmente indica a condição financeira dos passageiros. Sendo assim, a pergunta principal que queremos responder é:\n",
    "\n",
    "# Qual a relação entre os sobreviventes e a classe do bilhete?"
   ]
  },
  {
   "cell_type": "markdown",
   "metadata": {},
   "source": [
    "### Visão geral dos dados:"
   ]
  },
  {
   "cell_type": "markdown",
   "metadata": {},
   "source": [
    "Número de amostras e colunas:"
   ]
  },
  {
   "cell_type": "code",
   "execution_count": 2,
   "metadata": {},
   "outputs": [
    {
     "data": {
      "text/plain": [
       "(891, 12)"
      ]
     },
     "execution_count": 2,
     "metadata": {},
     "output_type": "execute_result"
    }
   ],
   "source": [
    "df_tn.shape"
   ]
  },
  {
   "cell_type": "markdown",
   "metadata": {},
   "source": [
    "Informações dos dados:"
   ]
  },
  {
   "cell_type": "code",
   "execution_count": 3,
   "metadata": {
    "scrolled": true
   },
   "outputs": [
    {
     "name": "stdout",
     "output_type": "stream",
     "text": [
      "<class 'pandas.core.frame.DataFrame'>\n",
      "RangeIndex: 891 entries, 0 to 890\n",
      "Data columns (total 12 columns):\n",
      "PassengerId    891 non-null int64\n",
      "Survived       891 non-null int64\n",
      "Pclass         891 non-null int64\n",
      "Name           891 non-null object\n",
      "Sex            891 non-null object\n",
      "Age            714 non-null float64\n",
      "SibSp          891 non-null int64\n",
      "Parch          891 non-null int64\n",
      "Ticket         891 non-null object\n",
      "Fare           891 non-null float64\n",
      "Cabin          204 non-null object\n",
      "Embarked       889 non-null object\n",
      "dtypes: float64(2), int64(5), object(5)\n",
      "memory usage: 83.6+ KB\n"
     ]
    }
   ],
   "source": [
    "df_tn.info()"
   ]
  },
  {
   "cell_type": "markdown",
   "metadata": {},
   "source": [
    "Número de linhas duplicadas:"
   ]
  },
  {
   "cell_type": "code",
   "execution_count": 4,
   "metadata": {},
   "outputs": [
    {
     "data": {
      "text/plain": [
       "0"
      ]
     },
     "execution_count": 4,
     "metadata": {},
     "output_type": "execute_result"
    }
   ],
   "source": [
    "sum(df_tn.duplicated())"
   ]
  },
  {
   "cell_type": "markdown",
   "metadata": {},
   "source": [
    "Tipos dos dados:"
   ]
  },
  {
   "cell_type": "code",
   "execution_count": 5,
   "metadata": {},
   "outputs": [
    {
     "data": {
      "text/plain": [
       "PassengerId      int64\n",
       "Survived         int64\n",
       "Pclass           int64\n",
       "Name            object\n",
       "Sex             object\n",
       "Age            float64\n",
       "SibSp            int64\n",
       "Parch            int64\n",
       "Ticket          object\n",
       "Fare           float64\n",
       "Cabin           object\n",
       "Embarked        object\n",
       "dtype: object"
      ]
     },
     "execution_count": 5,
     "metadata": {},
     "output_type": "execute_result"
    }
   ],
   "source": [
    "df_tn.dtypes"
   ]
  },
  {
   "cell_type": "markdown",
   "metadata": {},
   "source": [
    "Valores únicos dos dados:"
   ]
  },
  {
   "cell_type": "code",
   "execution_count": 6,
   "metadata": {
    "scrolled": true
   },
   "outputs": [
    {
     "data": {
      "text/plain": [
       "PassengerId    891\n",
       "Survived         2\n",
       "Pclass           3\n",
       "Name           891\n",
       "Sex              2\n",
       "Age             87\n",
       "SibSp            7\n",
       "Parch            7\n",
       "Ticket         681\n",
       "Fare           247\n",
       "Cabin          147\n",
       "Embarked         3\n",
       "dtype: int64"
      ]
     },
     "execution_count": 6,
     "metadata": {},
     "output_type": "execute_result"
    }
   ],
   "source": [
    "df_tn.nunique()"
   ]
  },
  {
   "cell_type": "markdown",
   "metadata": {},
   "source": [
    "Essas etapas iniciais de visualização dos dados servem para que saibamos quais as medidas de limpeza de dados podemos tomar. Para fazer uma análise coerente, algumas coisas precisam ser alteradas."
   ]
  },
  {
   "cell_type": "markdown",
   "metadata": {},
   "source": [
    "### Limpeza de Dados:"
   ]
  },
  {
   "cell_type": "markdown",
   "metadata": {},
   "source": [
    "Primeiro, vamos renomear os rótulos das colunas para colocar tudo em letra minúscula:"
   ]
  },
  {
   "cell_type": "code",
   "execution_count": 8,
   "metadata": {},
   "outputs": [],
   "source": [
    "df_tn.rename(columns=lambda x: x.strip().lower(), inplace=True)"
   ]
  },
  {
   "cell_type": "markdown",
   "metadata": {},
   "source": [
    "Nota-se que a coluna `age` tem valores ausentes, por isso vamos preencher essas linhas com a média dos valores:  "
   ]
  },
  {
   "cell_type": "code",
   "execution_count": 9,
   "metadata": {},
   "outputs": [],
   "source": [
    "df_tn['age'].fillna(df_tn['age'].mean(), inplace=True)"
   ]
  },
  {
   "cell_type": "markdown",
   "metadata": {},
   "source": [
    "Descartamos a coluna `cabin`, `ticket` e `passengerid` por não serem relevantes para as perguntas que queremos responder:"
   ]
  },
  {
   "cell_type": "code",
   "execution_count": 10,
   "metadata": {},
   "outputs": [],
   "source": [
    "df_tn.drop(['cabin', 'ticket', 'passengerid'], axis=1, inplace=True)"
   ]
  },
  {
   "cell_type": "markdown",
   "metadata": {},
   "source": [
    "Percebemos que a coluna `embarked` possui dois valores ausentes. Não é possível simplesmente preencher essa coluna pois ela é uma `string`, diferente da coluna `age` que é numérica. Para resolver esse problema, vamos primeiramente visualizar qual foi o porto de embarque mais usado por cada classe de bilhete. Depois vamos selecionar os dois passageiros com dados faltantes de `embarked` e completar conforme a classe do seu bilhete: `pclass`."
   ]
  },
  {
   "cell_type": "code",
   "execution_count": 11,
   "metadata": {
    "scrolled": false
   },
   "outputs": [
    {
     "data": {
      "text/plain": [
       "embarked\n",
       "C    1.886905\n",
       "Q    2.909091\n",
       "S    2.350932\n",
       "Name: pclass, dtype: float64"
      ]
     },
     "execution_count": 11,
     "metadata": {},
     "output_type": "execute_result"
    }
   ],
   "source": [
    "df_tn.groupby(['embarked']).mean()['pclass']"
   ]
  },
  {
   "cell_type": "markdown",
   "metadata": {},
   "source": [
    "O que fizemos aqui foi obter um taxa média de embarque. Podemos perceber aqui que a maioria dos passageiros da 1ª classe embarcaram no porto de Cherbourg, a maioria da 2ª classe no porto de Queenstown e a maioria da 3ª classe embarcaram no porto de Southampton.\n",
    "Agora selecionamos os passageiros com dados faltando:"
   ]
  },
  {
   "cell_type": "code",
   "execution_count": 12,
   "metadata": {},
   "outputs": [
    {
     "data": {
      "text/html": [
       "<div>\n",
       "<style scoped>\n",
       "    .dataframe tbody tr th:only-of-type {\n",
       "        vertical-align: middle;\n",
       "    }\n",
       "\n",
       "    .dataframe tbody tr th {\n",
       "        vertical-align: top;\n",
       "    }\n",
       "\n",
       "    .dataframe thead th {\n",
       "        text-align: right;\n",
       "    }\n",
       "</style>\n",
       "<table border=\"1\" class=\"dataframe\">\n",
       "  <thead>\n",
       "    <tr style=\"text-align: right;\">\n",
       "      <th></th>\n",
       "      <th>survived</th>\n",
       "      <th>pclass</th>\n",
       "      <th>name</th>\n",
       "      <th>sex</th>\n",
       "      <th>age</th>\n",
       "      <th>sibsp</th>\n",
       "      <th>parch</th>\n",
       "      <th>fare</th>\n",
       "      <th>embarked</th>\n",
       "    </tr>\n",
       "  </thead>\n",
       "  <tbody>\n",
       "    <tr>\n",
       "      <th>61</th>\n",
       "      <td>1</td>\n",
       "      <td>1</td>\n",
       "      <td>Icard, Miss. Amelie</td>\n",
       "      <td>female</td>\n",
       "      <td>38.0</td>\n",
       "      <td>0</td>\n",
       "      <td>0</td>\n",
       "      <td>80.0</td>\n",
       "      <td>NaN</td>\n",
       "    </tr>\n",
       "    <tr>\n",
       "      <th>829</th>\n",
       "      <td>1</td>\n",
       "      <td>1</td>\n",
       "      <td>Stone, Mrs. George Nelson (Martha Evelyn)</td>\n",
       "      <td>female</td>\n",
       "      <td>62.0</td>\n",
       "      <td>0</td>\n",
       "      <td>0</td>\n",
       "      <td>80.0</td>\n",
       "      <td>NaN</td>\n",
       "    </tr>\n",
       "  </tbody>\n",
       "</table>\n",
       "</div>"
      ],
      "text/plain": [
       "     survived  pclass                                       name     sex  \\\n",
       "61          1       1                        Icard, Miss. Amelie  female   \n",
       "829         1       1  Stone, Mrs. George Nelson (Martha Evelyn)  female   \n",
       "\n",
       "      age  sibsp  parch  fare embarked  \n",
       "61   38.0      0      0  80.0      NaN  \n",
       "829  62.0      0      0  80.0      NaN  "
      ]
     },
     "execution_count": 12,
     "metadata": {},
     "output_type": "execute_result"
    }
   ],
   "source": [
    "df_tn[df_tn['embarked'].isnull()]"
   ]
  },
  {
   "cell_type": "markdown",
   "metadata": {},
   "source": [
    "Encontramos os dois passageiros que tem valores nulos em `embarked`. Observe que a classe do bilhete dos passageiros é 1ª classe. Associando com a taxa média, a maioria das pessoas dessa classe embarcaram no porto de Cherbourg, logo, vamos preencher esses dados faltantes com o porto `C`:"
   ]
  },
  {
   "cell_type": "code",
   "execution_count": 13,
   "metadata": {},
   "outputs": [],
   "source": [
    "df_tn.loc[61, 'embarked'] = 'C'\n",
    "df_tn.loc[829, 'embarked'] = 'C'"
   ]
  },
  {
   "cell_type": "markdown",
   "metadata": {},
   "source": [
    "Conferindo a alteração:"
   ]
  },
  {
   "cell_type": "code",
   "execution_count": 14,
   "metadata": {},
   "outputs": [
    {
     "data": {
      "text/plain": [
       "survived                      1\n",
       "pclass                        1\n",
       "name        Icard, Miss. Amelie\n",
       "sex                      female\n",
       "age                          38\n",
       "sibsp                         0\n",
       "parch                         0\n",
       "fare                         80\n",
       "embarked                      C\n",
       "Name: 61, dtype: object"
      ]
     },
     "execution_count": 14,
     "metadata": {},
     "output_type": "execute_result"
    }
   ],
   "source": [
    "df_tn.iloc[61]"
   ]
  },
  {
   "cell_type": "code",
   "execution_count": 15,
   "metadata": {},
   "outputs": [
    {
     "data": {
      "text/plain": [
       "survived                                            1\n",
       "pclass                                              1\n",
       "name        Stone, Mrs. George Nelson (Martha Evelyn)\n",
       "sex                                            female\n",
       "age                                                62\n",
       "sibsp                                               0\n",
       "parch                                               0\n",
       "fare                                               80\n",
       "embarked                                            C\n",
       "Name: 829, dtype: object"
      ]
     },
     "execution_count": 15,
     "metadata": {},
     "output_type": "execute_result"
    }
   ],
   "source": [
    "df_tn.iloc[829]"
   ]
  },
  {
   "cell_type": "markdown",
   "metadata": {},
   "source": [
    "Podemos ver que agora a coluna `embarked` está preenchida."
   ]
  },
  {
   "cell_type": "markdown",
   "metadata": {},
   "source": [
    "### Comos dados preenchidos, também podemos verificar: qual o total de passageiros que embarcaram em cada porto?"
   ]
  },
  {
   "cell_type": "code",
   "execution_count": 16,
   "metadata": {},
   "outputs": [
    {
     "name": "stdout",
     "output_type": "stream",
     "text": [
      "Total de passageiros que embarcaram nos portos:\n",
      "Cherbourg (C) = 170\n",
      "Queenstown (Q): 77\n",
      "Southampton (S): 644\n"
     ]
    }
   ],
   "source": [
    "print('Total de passageiros que embarcaram nos portos:')\n",
    "print('Cherbourg (C) = {}\\nQueenstown (Q): {}\\nSouthampton (S): {}'.format( sum(df_tn['embarked'] == 'C'),\\\n",
    "                                       sum(df_tn['embarked'] == 'Q'), sum(df_tn['embarked'] == 'S')))\n",
    "      "
   ]
  },
  {
   "cell_type": "markdown",
   "metadata": {},
   "source": [
    "#### Podemos ver que o porto que mais embarcou passageiros foi o `S`, seguido por `C` e por último o porto `Q`. Isso já começa a nos dar alguns insights sobre a resposta que procuramos."
   ]
  },
  {
   "cell_type": "code",
   "execution_count": 17,
   "metadata": {},
   "outputs": [
    {
     "name": "stdout",
     "output_type": "stream",
     "text": [
      "<class 'pandas.core.frame.DataFrame'>\n",
      "RangeIndex: 891 entries, 0 to 890\n",
      "Data columns (total 9 columns):\n",
      "survived    891 non-null int64\n",
      "pclass      891 non-null int64\n",
      "name        891 non-null object\n",
      "sex         891 non-null object\n",
      "age         891 non-null float64\n",
      "sibsp       891 non-null int64\n",
      "parch       891 non-null int64\n",
      "fare        891 non-null float64\n",
      "embarked    891 non-null object\n",
      "dtypes: float64(2), int64(4), object(3)\n",
      "memory usage: 62.7+ KB\n"
     ]
    }
   ],
   "source": [
    "df_tn.info()"
   ]
  },
  {
   "cell_type": "markdown",
   "metadata": {},
   "source": [
    "### Agora que não temos mais valores ausentes, vamos ajustar os tipos dos dados"
   ]
  },
  {
   "cell_type": "markdown",
   "metadata": {},
   "source": [
    "Vejamos que o tipo da variável `age` é `float`. Vamos alterar para `int`, afinal, ninguém pode ter 23,0 anos!"
   ]
  },
  {
   "cell_type": "code",
   "execution_count": 18,
   "metadata": {},
   "outputs": [],
   "source": [
    "df_tn['age'] = df_tn['age'].astype(int)"
   ]
  },
  {
   "cell_type": "code",
   "execution_count": 19,
   "metadata": {
    "scrolled": false
   },
   "outputs": [
    {
     "data": {
      "text/plain": [
       "survived      int64\n",
       "pclass        int64\n",
       "name         object\n",
       "sex          object\n",
       "age           int32\n",
       "sibsp         int64\n",
       "parch         int64\n",
       "fare        float64\n",
       "embarked     object\n",
       "dtype: object"
      ]
     },
     "execution_count": 19,
     "metadata": {},
     "output_type": "execute_result"
    }
   ],
   "source": [
    "df_tn.dtypes"
   ]
  },
  {
   "cell_type": "markdown",
   "metadata": {},
   "source": [
    "Vamos salvar os dados após as alterações em um novo arquivo chamado `titanic_data.csv`, fazer a leitura desse novo arquivo e salvar na váriavel df_tn:"
   ]
  },
  {
   "cell_type": "code",
   "execution_count": 20,
   "metadata": {
    "scrolled": true
   },
   "outputs": [
    {
     "data": {
      "text/html": [
       "<div>\n",
       "<style scoped>\n",
       "    .dataframe tbody tr th:only-of-type {\n",
       "        vertical-align: middle;\n",
       "    }\n",
       "\n",
       "    .dataframe tbody tr th {\n",
       "        vertical-align: top;\n",
       "    }\n",
       "\n",
       "    .dataframe thead th {\n",
       "        text-align: right;\n",
       "    }\n",
       "</style>\n",
       "<table border=\"1\" class=\"dataframe\">\n",
       "  <thead>\n",
       "    <tr style=\"text-align: right;\">\n",
       "      <th></th>\n",
       "      <th>survived</th>\n",
       "      <th>pclass</th>\n",
       "      <th>name</th>\n",
       "      <th>sex</th>\n",
       "      <th>age</th>\n",
       "      <th>sibsp</th>\n",
       "      <th>parch</th>\n",
       "      <th>fare</th>\n",
       "      <th>embarked</th>\n",
       "    </tr>\n",
       "  </thead>\n",
       "  <tbody>\n",
       "    <tr>\n",
       "      <th>0</th>\n",
       "      <td>0</td>\n",
       "      <td>3</td>\n",
       "      <td>Braund, Mr. Owen Harris</td>\n",
       "      <td>male</td>\n",
       "      <td>22</td>\n",
       "      <td>1</td>\n",
       "      <td>0</td>\n",
       "      <td>725.0</td>\n",
       "      <td>S</td>\n",
       "    </tr>\n",
       "    <tr>\n",
       "      <th>1</th>\n",
       "      <td>1</td>\n",
       "      <td>1</td>\n",
       "      <td>Cumings, Mrs. John Bradley (Florence Briggs Th...</td>\n",
       "      <td>female</td>\n",
       "      <td>38</td>\n",
       "      <td>1</td>\n",
       "      <td>0</td>\n",
       "      <td>712833.0</td>\n",
       "      <td>C</td>\n",
       "    </tr>\n",
       "    <tr>\n",
       "      <th>2</th>\n",
       "      <td>1</td>\n",
       "      <td>3</td>\n",
       "      <td>Heikkinen, Miss. Laina</td>\n",
       "      <td>female</td>\n",
       "      <td>26</td>\n",
       "      <td>0</td>\n",
       "      <td>0</td>\n",
       "      <td>7925.0</td>\n",
       "      <td>S</td>\n",
       "    </tr>\n",
       "  </tbody>\n",
       "</table>\n",
       "</div>"
      ],
      "text/plain": [
       "   survived  pclass                                               name  \\\n",
       "0         0       3                            Braund, Mr. Owen Harris   \n",
       "1         1       1  Cumings, Mrs. John Bradley (Florence Briggs Th...   \n",
       "2         1       3                             Heikkinen, Miss. Laina   \n",
       "\n",
       "      sex  age  sibsp  parch      fare embarked  \n",
       "0    male   22      1      0     725.0        S  \n",
       "1  female   38      1      0  712833.0        C  \n",
       "2  female   26      0      0    7925.0        S  "
      ]
     },
     "execution_count": 20,
     "metadata": {},
     "output_type": "execute_result"
    }
   ],
   "source": [
    "df_tn.to_csv('titanic_data.csv')\n",
    "df_tn = pd.read_csv('titanic_data.csv', index_col=0)\n",
    "df_tn.head(3)"
   ]
  },
  {
   "cell_type": "markdown",
   "metadata": {},
   "source": [
    "## Explorando os dados"
   ]
  },
  {
   "cell_type": "markdown",
   "metadata": {},
   "source": [
    "Número de passageiros de cada classe:"
   ]
  },
  {
   "cell_type": "code",
   "execution_count": 21,
   "metadata": {},
   "outputs": [
    {
     "name": "stdout",
     "output_type": "stream",
     "text": [
      "1ª classe: 216\n",
      "2ª classe: 184\n",
      "3ª classe: 491\n",
      "Total: 891\n"
     ]
    }
   ],
   "source": [
    "print('1ª classe: {}'.format(sum(df_tn['pclass'] == 1)))\n",
    "print('2ª classe: {}'.format(sum(df_tn['pclass'] == 2)))\n",
    "print('3ª classe: {}'.format(sum(df_tn['pclass'] == 3)))\n",
    "tot = len(df_tn)\n",
    "print('Total: {}'.format(tot))"
   ]
  },
  {
   "cell_type": "markdown",
   "metadata": {},
   "source": [
    "Número de sobreviventes e não sobreviventes:"
   ]
  },
  {
   "cell_type": "code",
   "execution_count": 22,
   "metadata": {},
   "outputs": [
    {
     "name": "stdout",
     "output_type": "stream",
     "text": [
      "Sobreviventes: 342\n",
      "Não sobreviventes: 549\n",
      "Total de passageiros\n"
     ]
    }
   ],
   "source": [
    "print('Sobreviventes: {}\\nNão sobreviventes: {}\\nTotal de passageiros'.format(sum(df_tn['survived'] == 1), sum(df_tn['survived'] == 0)))"
   ]
  },
  {
   "cell_type": "markdown",
   "metadata": {},
   "source": [
    "Selecionando os sobreviventes e não sobreviventes:"
   ]
  },
  {
   "cell_type": "code",
   "execution_count": 23,
   "metadata": {},
   "outputs": [],
   "source": [
    "df_sv = df_tn.query('survived == \"1\"')\n",
    "df_nsv = df_tn.query('survived == \"0\"')"
   ]
  },
  {
   "cell_type": "markdown",
   "metadata": {},
   "source": [
    "Número de sobreviventes e não sobreviventes de cada classe de ticket:"
   ]
  },
  {
   "cell_type": "code",
   "execution_count": 24,
   "metadata": {
    "scrolled": true
   },
   "outputs": [
    {
     "name": "stdout",
     "output_type": "stream",
     "text": [
      "SOBREVIVENTES\n",
      "1ª classe: 136\n",
      "2ª classe: 87\n",
      "3ª classe: 119\n",
      "\n",
      "NÃO SOBREVIVENTES\n",
      "1ª classe: 80\n",
      "2ª classe: 97\n",
      "3ª classe: 372\n"
     ]
    }
   ],
   "source": [
    "print('SOBREVIVENTES\\n1ª classe: {}\\n2ª classe: {}\\n3ª classe: {}\\n'.format(sum(df_sv['pclass']== 1), sum(df_sv['pclass'] == 2),\\\n",
    "                                                                                                      sum(df_sv['pclass'] == 3)))\n",
    "print('NÃO SOBREVIVENTES\\n1ª classe: {}\\n2ª classe: {}\\n3ª classe: {}'.format(sum(df_nsv['pclass'] == 1),\\\n",
    "                                                                       sum(df_nsv['pclass'] == 2), sum(df_nsv['pclass'] == 3)))"
   ]
  },
  {
   "cell_type": "markdown",
   "metadata": {},
   "source": [
    "#### Através desses dados, é possível perceber que o número de sobreviventes da 1ª classe é superior ao número da 3ª classe mesmo que houvesse menos da metade dos passageiros que havia na 3ª classe. Mesmo que já estejam nos aproximando de conclusões, é sempre interessante fazer uma análise visual. Inclusive, ressalto que a habilidade de plotar gráficos é uma arte!"
   ]
  },
  {
   "cell_type": "markdown",
   "metadata": {},
   "source": [
    "Começamos com a criação de uma função para gerar dois gráficos de pizza simplificados no qual é possível observar visualmente as diferenças. Para isso, criamos uma variável dentro da função (`ord_sv`) para separar a ordem de sobreviventes e de não sobreviventes respectivamente e plotá-las nos gráficos:"
   ]
  },
  {
   "cell_type": "code",
   "execution_count": 25,
   "metadata": {},
   "outputs": [],
   "source": [
    "def plot_surv(data):\n",
    "    ord_sv = data['pclass'].value_counts().index\n",
    "    data['pclass'].value_counts()[ord_sv].plot(kind='pie', figsize=(5, 5), title='SOBREVIVENTES DE CADA CLASSE');"
   ]
  },
  {
   "cell_type": "code",
   "execution_count": 26,
   "metadata": {
    "scrolled": true
   },
   "outputs": [
    {
     "data": {
      "image/png": "[encoded data removed]",
      "text/plain": [
       "<Figure size 360x360 with 1 Axes>"
      ]
     },
     "metadata": {},
     "output_type": "display_data"
    }
   ],
   "source": [
    "plot_surv(df_sv)"
   ]
  },
  {
   "cell_type": "markdown",
   "metadata": {},
   "source": [
    "Podemos observar aqui que os sobreviventes da 1ª classe abrangem quase metade do total de sobreviventes. Agora aplicamos `df_nsv` na função:"
   ]
  },
  {
   "cell_type": "code",
   "execution_count": 27,
   "metadata": {
    "scrolled": false
   },
   "outputs": [
    {
     "data": {
      "text/plain": [
       "Text(0.5,1,'NÃO SOBREVIVENTES POR CLASSE')"
      ]
     },
     "execution_count": 27,
     "metadata": {},
     "output_type": "execute_result"
    },
    {
     "data": {
      "image/png": "[encoded data removed]",
      "text/plain": [
       "<Figure size 360x360 with 1 Axes>"
      ]
     },
     "metadata": {},
     "output_type": "display_data"
    }
   ],
   "source": [
    "import matplotlib.pyplot as plt\n",
    "plot_surv(df_nsv)\n",
    "plt.title('NÃO SOBREVIVENTES POR CLASSE')"
   ]
  },
  {
   "cell_type": "markdown",
   "metadata": {},
   "source": [
    "Aqui, percebemos que o número de não sobreviventes da 3ª classe abrange mais da metade do total dos não sobreviventes."
   ]
  },
  {
   "cell_type": "markdown",
   "metadata": {},
   "source": [
    "E abaixo temos dois gráficos em barras:"
   ]
  },
  {
   "cell_type": "code",
   "execution_count": 28,
   "metadata": {
    "scrolled": true
   },
   "outputs": [
    {
     "data": {
      "text/plain": [
       "Text(0.5,1,'Quantidade de sobreviventes por classe')"
      ]
     },
     "execution_count": 28,
     "metadata": {},
     "output_type": "execute_result"
    },
    {
     "data": {
      "image/png": "[encoded data removed]",
      "text/plain": [
       "<Figure size 288x288 with 1 Axes>"
      ]
     },
     "metadata": {},
     "output_type": "display_data"
    }
   ],
   "source": [
    "import matplotlib.pyplot as plt\n",
    "def plot_surv_bar(data):\n",
    "    ord_sv = data['pclass'].value_counts().index\n",
    "    data['pclass'].value_counts()[ord_sv].plot(kind='bar', figsize=(4, 4));\n",
    "    plt.xlabel('Classe do passageiro')\n",
    "    plt.ylabel('Quantidade de passageiros')\n",
    "plot_surv_bar(df_sv)\n",
    "plt.title('Quantidade de sobreviventes por classe')"
   ]
  },
  {
   "cell_type": "markdown",
   "metadata": {},
   "source": [
    "No gráfico em barras retificamos as proporções. Visualmente podemos perceber que os sobreviventes da 2ª classe são apenas um pouco maior que a metade dos sobreviventes da 1ª classe. Claramente percebemos que os passageiros da primeira classe tiveram mais probabilidade de sobrevivência."
   ]
  },
  {
   "cell_type": "code",
   "execution_count": 29,
   "metadata": {},
   "outputs": [
    {
     "data": {
      "text/plain": [
       "Text(0.5,1,'Quantidade de não sobreviventes por classe')"
      ]
     },
     "execution_count": 29,
     "metadata": {},
     "output_type": "execute_result"
    },
    {
     "data": {
      "image/png": "[encoded data removed]",
      "text/plain": [
       "<Figure size 288x288 with 1 Axes>"
      ]
     },
     "metadata": {},
     "output_type": "display_data"
    }
   ],
   "source": [
    "import matplotlib.pyplot as plt\n",
    "plot_surv_bar(df_nsv)\n",
    "plt.title('Quantidade de não sobreviventes por classe')"
   ]
  },
  {
   "cell_type": "markdown",
   "metadata": {},
   "source": [
    "Esse gráfico é impressionante! O número de pessoas que não sobreviveram na 3ª classe foi mais do que 3 vezes mais que cada uma das outras duas classes"
   ]
  },
  {
   "cell_type": "markdown",
   "metadata": {},
   "source": [
    "#### Mas podemos responder mais algumas perguntas. Para isso precisamos fazer mais algumas operações:"
   ]
  },
  {
   "cell_type": "markdown",
   "metadata": {},
   "source": [
    "Vamos calcular as médias de idade:"
   ]
  },
  {
   "cell_type": "code",
   "execution_count": 30,
   "metadata": {},
   "outputs": [
    {
     "name": "stdout",
     "output_type": "stream",
     "text": [
      "Média de idade dos sobreviventes: 30.0906432748538\n",
      "Média de idade dos não sobreviventes: 30.468123861566486\n"
     ]
    }
   ],
   "source": [
    "df_sma = df_sv['age'].mean()\n",
    "df_nma = df_nsv['age'].mean()\n",
    "print('Média de idade dos sobreviventes: {}\\nMédia de idade dos não sobreviventes: {}'.format((df_sma), (df_nma)))"
   ]
  },
  {
   "cell_type": "markdown",
   "metadata": {},
   "source": [
    "Apesar da diferença ser pequena, percebe-se que em geral as pessoas que morreram na tragédia eram mais velhas"
   ]
  },
  {
   "cell_type": "markdown",
   "metadata": {},
   "source": [
    "#### Já temos algumas respostas, mas qual será o gênero mais comum entre os sobreviventes e os não sobreviventes?\n",
    "Vamos responder isso!\n",
    "Primeiro vamos ver qual o total de homens e mulheres"
   ]
  },
  {
   "cell_type": "code",
   "execution_count": 31,
   "metadata": {
    "scrolled": true
   },
   "outputs": [
    {
     "name": "stdout",
     "output_type": "stream",
     "text": [
      "Total de mulheres: 314\n",
      "Total de homens: 577\n"
     ]
    }
   ],
   "source": [
    "print(\"Total de mulheres: {}\\nTotal de homens: {}\".format(sum(df_tn['sex'] == 'female'), sum(df_tn['sex'] == 'male')))"
   ]
  },
  {
   "cell_type": "markdown",
   "metadata": {},
   "source": [
    "Agora vamos ver o total de homens e mulheres entre os sobreviventes e os não sobreviventes"
   ]
  },
  {
   "cell_type": "code",
   "execution_count": 32,
   "metadata": {},
   "outputs": [
    {
     "name": "stdout",
     "output_type": "stream",
     "text": [
      "SOBREVIVENTES\n",
      "Total de mulheres = 233\n",
      "Total de homens: 109\n",
      "\n",
      "NÃO SOBREVIVENTES\n",
      "Total de mulheres = 81\n",
      "Total de homens: 468\n"
     ]
    }
   ],
   "source": [
    "print('SOBREVIVENTES\\nTotal de mulheres = {}\\nTotal de homens: {}\\n'.format(sum(df_sv['sex'] == 'female'), sum(df_sv['sex'] == 'male')))\n",
    "print('NÃO SOBREVIVENTES\\nTotal de mulheres = {}\\nTotal de homens: {}'.format(sum(df_nsv['sex'] == 'female'), sum(df_nsv['sex'] == 'male')))"
   ]
  },
  {
   "cell_type": "markdown",
   "metadata": {},
   "source": [
    "#### Incrível! Entre os sobreviventes, as mulheres foram mais da metade. Enquanto isso o número de homens não sobreviventes foi quase 6x maior que número de mulheres."
   ]
  },
  {
   "cell_type": "markdown",
   "metadata": {},
   "source": [
    "## Conclusão"
   ]
  },
  {
   "cell_type": "markdown",
   "metadata": {},
   "source": [
    "### Limitações"
   ]
  },
  {
   "cell_type": "markdown",
   "metadata": {},
   "source": [
    "Conseguimos responder algumas perguntas e chegar a algumas conclusões, porém algumas limitações impedem que análises mais profundas possam ser feitas. O fato de termos valores ausentes em `age` e em `embarked` acaba por não nos dar uma conclusão tão perfeita sobre os dados que temos em mãos, embora no caso de `embarked` a diferença não seria relevante. Também poderíamos fazer análises mais profundas caso tivéssemos outros tipos de dados, por exemplo o número de botes salva-vidas disponíveis do navio antes e após a catástrofe, a capacidade interna máxima de cada um e até mesmo quantas pessoas o bote precisaria ter para afundar. Assim poderíamos prever quantas pessoas poderiam ter sido salvas e quantas realmente sobreviveram e fazer uma leitura melhor do que aconteceu nesse terrível acidente."
   ]
  },
  {
   "cell_type": "markdown",
   "metadata": {},
   "source": [
    "### Conclusão final"
   ]
  },
  {
   "cell_type": "markdown",
   "metadata": {},
   "source": [
    "Através de algumas análises rápidas nós conseguimos descobrir algumas respostas valiosas. Por exemplo, descobrimos que as  mulheres que fossem da 1ª classe teriam mais chances de sobreviver. A maior probabilidade de morte desse acontecimento é de homens e que fossem das classes inferiores. A relação idade, gênero e classe do ticket foram altamente influenciáveis na sobrevivência de uma pessoa. Apesar de não usarmos outras colunas nessa análise, outras respostas poderiam ser obtidas como o número de familiares presentes no navio, os preços pagos pelos tickets e até mesmo algo relacionado ao número das cabines."
   ]
  }
 ],
 "metadata": {
  "kernelspec": {
   "display_name": "Python 3",
   "language": "python",
   "name": "python3"
  },
  "language_info": {
   "codemirror_mode": {
    "name": "ipython",
    "version": 3
   },
   "file_extension": ".py",
   "mimetype": "text/x-python",
   "name": "python",
   "nbconvert_exporter": "python",
   "pygments_lexer": "ipython3",
   "version": "3.6.5"
  }
 },
 "nbformat": 4,
 "nbformat_minor": 2
}
